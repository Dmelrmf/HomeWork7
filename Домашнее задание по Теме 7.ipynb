{
 "cells": [
  {
   "cell_type": "markdown",
   "id": "b7377141",
   "metadata": {},
   "source": [
    "### Задание 1"
   ]
  },
  {
   "cell_type": "code",
   "execution_count": 1,
   "id": "8f0cf7cd",
   "metadata": {},
   "outputs": [],
   "source": [
    "import requests"
   ]
  },
  {
   "cell_type": "code",
   "execution_count": 4,
   "id": "00afe196",
   "metadata": {},
   "outputs": [
    {
     "data": {
      "text/plain": [
       "'Китайских юаней'"
      ]
     },
     "execution_count": 4,
     "metadata": {},
     "output_type": "execute_result"
    }
   ],
   "source": [
    "url_ = 'https://www.cbr-xml-daily.ru/daily_json.js'\n",
    "\n",
    "def max_value(url):\n",
    "    rate = requests.get(url).json()\n",
    "    max_rate = max(rate['Valute'].values(), key=lambda rate: rate['Value'])\n",
    "    return max_rate.get('Name')\n",
    "\n",
    "max_value(url_)"
   ]
  },
  {
   "cell_type": "markdown",
   "id": "3eb88a95",
   "metadata": {},
   "source": [
    "### Задание 2"
   ]
  },
  {
   "cell_type": "code",
   "execution_count": 5,
   "id": "0149bee6",
   "metadata": {},
   "outputs": [],
   "source": [
    "class Employee:\n",
    "    def __init__(self, name, seniority):\n",
    "        self.name = name\n",
    "        self.seniority = seniority\n",
    "        \n",
    "        self.grade = 1\n",
    "    \n",
    "    def grade_up(self):\n",
    "        \"\"\"Повышает уровень сотрудника\"\"\"\n",
    "        self.grade += 1\n",
    "    \n",
    "    def publish_grade(self):\n",
    "        \"\"\"Публикация результатов аккредитации сотрудников\"\"\"\n",
    "        print(self.name, self.grade)\n",
    "    \n",
    "    def check_if_it_is_time_for_upgrade(self):\n",
    "        pass"
   ]
  },
  {
   "cell_type": "markdown",
   "id": "dcb7e3ce",
   "metadata": {},
   "source": [
    "Класс Designer"
   ]
  },
  {
   "cell_type": "code",
   "execution_count": 7,
   "id": "49e5cda0",
   "metadata": {},
   "outputs": [],
   "source": [
    "class Designer(Employee):\n",
    "    def __init__(self, name, seniority):\n",
    "        super().__init__(name, seniority)\n",
    "        \n",
    "    def check_if_it_is_time_for_upgrade(self):\n",
    "        self.seniority += 1\n",
    "        int_reward = 2\n",
    "    \n",
    "    # условие повышения\n",
    "        if (self.seniority + 2 * int_reward) % 7 == 0:\n",
    "            self.grade_up()\n",
    "        \n",
    "        return self.publish_grade() \n",
    "    "
   ]
  },
  {
   "cell_type": "code",
   "execution_count": 9,
   "id": "d0fcf0de",
   "metadata": {},
   "outputs": [
    {
     "name": "stdout",
     "output_type": "stream",
     "text": [
      "Bob 1\n",
      "Bob 1\n",
      "Bob 2\n",
      "Bob 2\n",
      "Bob 2\n",
      "Bob 2\n",
      "Bob 2\n",
      "Bob 2\n",
      "Bob 2\n",
      "Bob 3\n",
      "Bob 3\n",
      "Bob 3\n",
      "Bob 3\n",
      "Bob 3\n",
      "Bob 3\n",
      "Bob 3\n",
      "Bob 4\n",
      "Bob 4\n",
      "Bob 4\n",
      "Bob 4\n"
     ]
    }
   ],
   "source": [
    "bob_ = Designer('Bob', 0)\n",
    "for i in range(20):\n",
    "    bob_.check_if_it_is_time_for_upgrade()"
   ]
  }
 ],
 "metadata": {
  "kernelspec": {
   "display_name": "Python 3 (ipykernel)",
   "language": "python",
   "name": "python3"
  },
  "language_info": {
   "codemirror_mode": {
    "name": "ipython",
    "version": 3
   },
   "file_extension": ".py",
   "mimetype": "text/x-python",
   "name": "python",
   "nbconvert_exporter": "python",
   "pygments_lexer": "ipython3",
   "version": "3.9.12"
  }
 },
 "nbformat": 4,
 "nbformat_minor": 5
}
